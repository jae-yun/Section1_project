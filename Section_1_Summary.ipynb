{
  "nbformat": 4,
  "nbformat_minor": 0,
  "metadata": {
    "colab": {
      "provenance": [],
      "authorship_tag": "ABX9TyMmPp86TwLndgBdBJVcV8jX",
      "include_colab_link": true
    },
    "kernelspec": {
      "name": "python3",
      "display_name": "Python 3"
    },
    "language_info": {
      "name": "python"
    }
  },
  "cells": [
    {
      "cell_type": "markdown",
      "metadata": {
        "id": "view-in-github",
        "colab_type": "text"
      },
      "source": [
        "<a href=\"https://colab.research.google.com/github/jae-yun/Section1_project/blob/main/Section_1_Summary.ipynb\" target=\"_parent\"><img src=\"https://colab.research.google.com/assets/colab-badge.svg\" alt=\"Open In Colab\"/></a>"
      ]
    },
    {
      "cell_type": "markdown",
      "source": [
        "Contents:\n",
        "강의 노트 / 과제 / 조별 미니 프로젝트 / 스프린트 챌린지 / 랩업\n",
        "섹션 프로젝트\n",
        "\n"
      ],
      "metadata": {
        "id": "nh17pkQEFNKH"
      }
    },
    {
      "cell_type": "markdown",
      "source": [
        "# 1. EDA"
      ],
      "metadata": {
        "id": "Zv1LGkNek-jU"
      }
    },
    {
      "cell_type": "code",
      "source": [
        "# 주요 헤더\n",
        "import pandas as pd\n",
        "import numpy as np\n",
        "import matplotlib.pyplot as plt\n",
        "import seaborn as sns\n",
        "import re\n",
        "import math\n",
        "from scipy.stats import binom\n",
        "import random\n",
        "import scipy.stats as st\n",
        "import sklearn\n",
        "from sklearn.preprocessing import StandardScaler\n",
        "from sklearn.decomposition import PCA\n",
        "from sklearn.cluster import KMeans"
      ],
      "metadata": {
        "id": "FxMckg8Z1Xw7"
      },
      "execution_count": null,
      "outputs": []
    },
    {
      "cell_type": "markdown",
      "source": [
        "## 1-1 불러오기\n"
      ],
      "metadata": {
        "id": "vwk9CYHblOXx"
      }
    },
    {
      "cell_type": "code",
      "execution_count": null,
      "metadata": {
        "id": "-2SvtFBj0-Wy"
      },
      "outputs": [],
      "source": [
        "# 데이터 업로드\n",
        "from google.colab import files\n",
        "uploaded = files.upload()\n",
        "df_red = pd.read_csv('winequality-red.csv') #df_red = pd.read_csv('winequality-red.csv', sep=';')"
      ]
    },
    {
      "cell_type": "code",
      "source": [
        "# 데이터 업로드2 \n",
        "url = 'sth'\n",
        "df = pd.read_csv(url)"
      ],
      "metadata": {
        "id": "vxdG40l21gao"
      },
      "execution_count": null,
      "outputs": []
    },
    {
      "cell_type": "code",
      "source": [
        "# 합쳐진 dataframe은 우리가 분석하고자 하는 final version이기 때문에, csv 파일로 저장!\n",
        "df.to_csv('winequality_edited.csv', index=False) \n",
        "# 첫 컬럼이 index로 저장됨. "
      ],
      "metadata": {
        "id": "F6VOq1SGnnTk"
      },
      "execution_count": null,
      "outputs": []
    },
    {
      "cell_type": "code",
      "source": [
        "import copy\n",
        "\n",
        "df1_modified = copy.deepcopy(df1)"
      ],
      "metadata": {
        "id": "4PkIpjf4u2jG"
      },
      "execution_count": null,
      "outputs": []
    },
    {
      "cell_type": "markdown",
      "source": [
        "# 1-2 탐색\n",
        "\n"
      ],
      "metadata": {
        "id": "ow5aGd04lUyH"
      }
    },
    {
      "cell_type": "code",
      "source": [
        "'''\n",
        "print(df.shape)\n",
        "print(df.info())\n",
        "print(df.head())\n",
        "print(df.describe())\n",
        "\n",
        "'''\n",
        "display(df.shape, df.info(), df.head(), df.describe)"
      ],
      "metadata": {
        "id": "mnKOdw3PlR7W"
      },
      "execution_count": null,
      "outputs": []
    },
    {
      "cell_type": "markdown",
      "source": [
        "중복치 탐색 / 제거\n",
        "결측치 탐색 / 제거\n",
        "인덱스 정렬 / 제거"
      ],
      "metadata": {
        "id": "wi0hFJG1mlS-"
      }
    },
    {
      "cell_type": "code",
      "source": [
        "print(\"duplicated: \", df.duplicated().sum())\n",
        "print(\"isnull: \", df.isnull().sum())\n"
      ],
      "metadata": {
        "id": "3Sj4Gg9Ll-BK"
      },
      "execution_count": null,
      "outputs": []
    },
    {
      "cell_type": "code",
      "source": [
        "df = df.drop_duplicates()\n",
        "\n",
        "df1_filled=df1.fillna({'자산총계':df1['자산총계'].mean()})"
      ],
      "metadata": {
        "id": "06Y5tShwmJ8b"
      },
      "execution_count": null,
      "outputs": []
    },
    {
      "cell_type": "code",
      "source": [
        "df_red = df_red.reset_index(drop=True)\n"
      ],
      "metadata": {
        "id": "_Cu4BdrQmNel"
      },
      "execution_count": null,
      "outputs": []
    },
    {
      "cell_type": "markdown",
      "source": [
        "#1-3 Column 다루기\n",
        "\n",
        "기본 다루기"
      ],
      "metadata": {
        "id": "nlX-d8l1nyBj"
      }
    },
    {
      "cell_type": "code",
      "source": [
        "# red dataframe에 red를 나타내는 array 생성\n",
        "red_color = np.repeat('red', len(df_red))\n",
        "red_color\n",
        "\n",
        "df_red['color'] = red_color\n",
        "\n",
        "df = df.drop(columns=['수학점수'])\n",
        "\n",
        "df_red.columns\n",
        "\n",
        "# 합치려는 데이터셋의 columns가 동일한지 확인\n",
        "set(df_red.columns) == set(df_white.columns)\n",
        "\n",
        "#컬럼 타입 변경\n",
        "df = df.astype({'시가':'int'})\n",
        "\n",
        "# column의 이름 통일을 위해, 수정\n",
        "df_red.rename(columns = {'total_sulfur-dioxide' : 'total_sulfur_dioxide'}, inplace=True)"
      ],
      "metadata": {
        "id": "3-VVza20nKDP"
      },
      "execution_count": null,
      "outputs": []
    },
    {
      "cell_type": "markdown",
      "source": [
        "컬럼 합치기"
      ],
      "metadata": {
        "id": "IaxlyupBn7Ja"
      }
    },
    {
      "cell_type": "code",
      "source": [
        "# 하나의 데이터셋으로 통합\n",
        "df = df_white.append(df_red, ignore_index = True)\n",
        "     \n"
      ],
      "metadata": {
        "id": "4G6Vbmlcnbu2"
      },
      "execution_count": null,
      "outputs": []
    },
    {
      "cell_type": "markdown",
      "source": [
        "통계"
      ],
      "metadata": {
        "id": "MynuWM-RoBRY"
      }
    },
    {
      "cell_type": "code",
      "source": [
        "wine_df.mean()\n",
        "wine_df['color'].value_counts()\n",
        "light_body.quality.count()\n",
        "sugar_med = wine_df.residual_sugar.median()"
      ],
      "metadata": {
        "id": "LAN83L8qoAqT"
      },
      "execution_count": null,
      "outputs": []
    },
    {
      "cell_type": "markdown",
      "source": [],
      "metadata": {
        "id": "ZwJiPQHPoEDT"
      }
    },
    {
      "cell_type": "markdown",
      "source": [
        "그룹"
      ],
      "metadata": {
        "id": "D7YyB6r5oFpE"
      }
    },
    {
      "cell_type": "code",
      "source": [
        "wine_df.groupby('color').mean()\n",
        "wine_df.groupby('color')['quality'].mean()\n",
        "wine_df.groupby(['quality', 'color']).mean()\n"
      ],
      "metadata": {
        "id": "4m2XLJm3oEmv"
      },
      "execution_count": null,
      "outputs": []
    },
    {
      "cell_type": "code",
      "source": [
        "light_body = wine_df.query(\"alcohol <= 12.5\")\n",
        "medium_body = wine_df.query(\"(alcohol > 12.5) and (alcohol < 13.5)\")\n",
        "full_body = wine_df.query(\"alcohol >= 13.5\")\n",
        "     "
      ],
      "metadata": {
        "id": "shI1KSHEr8Ih"
      },
      "execution_count": null,
      "outputs": []
    },
    {
      "cell_type": "markdown",
      "source": [
        "구간변수로 바꾸기"
      ],
      "metadata": {
        "id": "xr57d4Z0pnvE"
      }
    },
    {
      "cell_type": "code",
      "source": [
        "\n",
        "# 'wine_df.pH.describe()'를 통해 확인한, 4분위수를 활용하여 bins로 입력\n",
        "bins = [2.72, 3.11, 3.21, 3.33, 4.01]\n",
        "\n",
        "# 범위에 따라 원하는 레이블명을 입력\n",
        "labels = ['Low', 'Medium', 'Moderately High', 'High']\n",
        "\n",
        "#'cut'을 통해 continuous data를 category data로 변경\n",
        "wine_df['ph_levels'] = pd.cut(x=wine_df['pH'], bins=bins, labels=labels)"
      ],
      "metadata": {
        "id": "Tj2gGDjjpmmb"
      },
      "execution_count": null,
      "outputs": []
    },
    {
      "cell_type": "code",
      "source": [
        "import pandas as pd\n",
        "\n",
        "# target\n",
        "target = 'vacc_h1n1_f'\n",
        "\n",
        "\n",
        "# train, test data\n",
        "train = pd.merge(pd.read_csv('https://ds-lecture-data.s3.ap-northeast-2.amazonaws.com/vacc_flu/train.csv'), \n",
        "                 pd.read_csv('https://ds-lecture-data.s3.ap-northeast-2.amazonaws.com/vacc_flu/train_labels.csv')[target], left_index=True, right_index=True)\n",
        "test = pd.read_csv('https://ds-lecture-data.s3.ap-northeast-2.amazonaws.com/vacc_flu/test.csv')\n",
        "\n",
        "\n",
        "# submission form\n",
        "sample_submission = pd.read_csv('https://ds-lecture-data.s3.ap-northeast-2.amazonaws.com/vacc_flu/submission.csv')\n"
      ],
      "metadata": {
        "id": "bGeD22BAnGYn"
      },
      "execution_count": null,
      "outputs": []
    },
    {
      "cell_type": "code",
      "source": [
        "import numpy as np\n",
        "\n",
        "def engineer(df):\n",
        "    \n",
        "    selected_cols = df.select_dtypes(include=[\"number\", \"object\"])\n",
        "    labels = selected_cols.nunique()  # 특성별 카디널리티 리스트\n",
        "    selected_features = labels[labels <= 30].index.tolist()  # 카디널리티가 30보다 작은 특성만 선택합니다.\n",
        "    df = df[selected_features]\n",
        "\n",
        "    # 새로운 특성을 생성합니다.\n",
        "    behaviorals = [col for col in df.columns if \"behavioral\" in col]\n",
        "    df[\"bhvrs\"] = df[behaviorals].sum(axis=1)\n",
        "    df.drop(columns=behaviorals, inplace=True)\n",
        "\n",
        "    dels = [col for col in df.columns if (\"employment\" in col or \"seas\" in col)]\n",
        "    df.drop(columns=dels, inplace=True)\n",
        "\n",
        "    return df\n",
        "\n",
        "train = engineer(train)\n",
        "test = engineer(test)\n",
        "\n",
        "from sklearn.model_selection import train_test_split\n",
        "\n",
        "train, val = train_test_split(\n",
        "    train, train_size=0.80, test_size=0.20, stratify=train[target], random_state=2\n",
        ")\n",
        "\n",
        "X_train = train.drop(target, axis=1)\n",
        "y_train = train[target]\n",
        "X_val = val.drop(target, axis=1)\n",
        "y_val = val[target]\n",
        "X_test = test"
      ],
      "metadata": {
        "id": "ceRo0qtFnKdU"
      },
      "execution_count": null,
      "outputs": []
    },
    {
      "cell_type": "markdown",
      "source": [
        "#2. 그래프\n"
      ],
      "metadata": {
        "id": "N2MgtFixrWvi"
      }
    },
    {
      "cell_type": "code",
      "source": [
        "group_residual_sugar.plot(kind='bar');\n",
        "\n",
        "\n",
        "plt.scatter(wine_df['quality'], wine_df['volatile_acidity']);\n",
        "plt.plot(group_volatile_acidity.mean());\n",
        "\n",
        "\n",
        "\n",
        "\n",
        "wine_df.groupby('color')['quality'].mean().plot(kind='bar', \n",
        "                                                title='Average Wine Quality by Color', \n",
        "                                                fontsize=13, \n",
        "                                                color=['red', 'blue'], \n",
        "                                                alpha=0.4);"
      ],
      "metadata": {
        "id": "aBWLGKuwrabv"
      },
      "execution_count": null,
      "outputs": []
    },
    {
      "cell_type": "code",
      "source": [
        "https://blog.naver.com/PostView.nhn?blogId=willie123&logNo=222103777303&parentCategoryNo=&categoryNo=17&viewDate=&isShowPopularPosts=true&from=search\n",
        "\n",
        "\n",
        "분산성 검정\n",
        "\n",
        "독립성 검정\n"
      ],
      "metadata": {
        "id": "BEV4O8UF9WGN"
      },
      "execution_count": null,
      "outputs": []
    },
    {
      "cell_type": "markdown",
      "source": [
        "https://codestates.notion.site/Section-2-Sprint-2-ba6b1326d7bc471ea5eecff376d30620"
      ],
      "metadata": {
        "id": "ibnPBpE_unxG"
      }
    },
    {
      "cell_type": "code",
      "source": [
        "from category_encoders import OrdinalEncoder\n",
        "from sklearn.impute import SimpleImputer\n",
        "from xgboost import XGBClassifier\n",
        "from sklearn.pipeline import make_pipeline\n",
        "from sklearn.metrics import classification_report\n",
        "\n",
        "from sklearn.metrics import f1_score\n",
        "\n",
        "def f1_eval(y_pred, dtrain):\n",
        "    y_true = dtrain.get_label()\n",
        "    err = 1-f1_score(y_true, np.round(y_pred))\n",
        "    return 'f1_err', err\n",
        "\n",
        "\n",
        "encoder = OrdinalEncoder()\n",
        "X_train_encoded = encoder.fit_transform(X_train)  # 학습데이터\n",
        "X_val_encoded = encoder.transform(X_val)  # 검증데이터\n",
        "\n",
        "model = XGBClassifier(\n",
        "    disable_default_eval_metric=1,\n",
        "    objective=\"binary:logistic\",\n",
        "    n_estimators=1000,  \n",
        "    random_state=2,\n",
        "    n_jobs=-1,\n",
        "    max_depth=7,\n",
        "    learning_rate=0.1,\n",
        "    reg_lambda=1,\n",
        ")\n",
        "\n",
        "watchlist = [(X_train_encoded, y_train), (X_val_encoded, y_val)]\n",
        "\n",
        "model.fit(\n",
        "    X_train_encoded,\n",
        "    y_train,\n",
        "    eval_set=watchlist,\n",
        "    eval_metric=f1_eval,\n",
        "    early_stopping_rounds=200, \n",
        ")\n",
        "     "
      ],
      "metadata": {
        "id": "FtmTmFwt8c31"
      },
      "execution_count": null,
      "outputs": []
    },
    {
      "cell_type": "code",
      "source": [
        "encoder = OrdinalEncoder()\n",
        "X_train_encoded = encoder.fit_transform(X_train)  # 학습데이터\n",
        "X_val_encoded = encoder.transform(X_val)  # 검증데이터\n",
        "\n",
        "xgblist = []\n",
        "\n",
        "\n",
        "for i in range (5, 13):\n",
        "  model = XGBClassifier()\n",
        "  print('i = ', i)\n",
        "\n",
        "  model = XGBClassifier(\n",
        "      disable_default_eval_metric=1,\n",
        "      objective=\"binary:logistic\",\n",
        "      n_estimators=1000,  \n",
        "      eval_metric='error',\n",
        "      random_state=2,\n",
        "      n_jobs=-1,\n",
        "      max_depth=i,\n",
        "      learning_rate=0.1,\n",
        "      reg_lambda=1,\n",
        "  )\n",
        "\n",
        "  watchlist = [(X_train_encoded, y_train), (X_val_encoded, y_val)]\n",
        "\n",
        "  model.fit(\n",
        "      X_train_encoded,\n",
        "      y_train,\n",
        "      eval_set=watchlist,\n",
        "      early_stopping_rounds=100, \n",
        "  )\n",
        "\n",
        "\n",
        "\n",
        "  best_iter = model.best_iteration\n",
        "\n",
        "\n",
        "  model = XGBClassifier(\n",
        "    disable_default_eval_metric=1,\n",
        "    objective=\"binary:logistic\",\n",
        "    n_estimators=best_iter,  \n",
        "    random_state=2,\n",
        "    n_jobs=-1,\n",
        "    max_depth=i,\n",
        "    learning_rate=0.1,\n",
        "    reg_lambda=1,\n",
        "  )\n",
        "\n",
        "  model.fit(\n",
        "    X_train_encoded,\n",
        "    y_train,\n",
        "  )\n",
        "\n",
        "  pred = model.predict(X_val_encoded)\n",
        "\n",
        "  print('F1 score:', f1_score(y_val, pred))\n",
        "  xgblist.append(f1_score(y_val, pred))\n",
        "\n",
        "\n",
        "\n",
        "xgblist=pd.Series(xgblist)\n",
        "sorted = xgblist.sort_values()\n",
        "display(sorted.head(), sorted.tail())\n"
      ],
      "metadata": {
        "id": "ZzN8tCjmqF-b"
      },
      "execution_count": null,
      "outputs": []
    }
  ]
}